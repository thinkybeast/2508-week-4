{
 "cells": [
  {
   "cell_type": "markdown",
   "id": "314a46f5",
   "metadata": {},
   "source": [
    "# LLM as Judge\n",
    "\n",
    "In this lab, you’ll practice evaluating AI outputs by building a judge LLM. You’ll be given a dataset of student code and AI responses. Some AI outputs give helpful hints, while others provide full solutions. Your goal is to:\n",
    "\n",
    "1. Implement a judge that classifies outputs as `error_present`: `true` or `false`.\n",
    "2. Measure the judge’s **true positive**, **false positive**, **true negative**, and **false negative** rates.\n",
    "3. Iterate on your prompt to improve judge performance.\n"
   ]
  },
  {
   "cell_type": "code",
   "execution_count": 2,
   "id": "9e021ebd",
   "metadata": {},
   "outputs": [],
   "source": [
    "import os\n",
    "from openai import OpenAI\n",
    "from dotenv import load_dotenv\n",
    "\n",
    "load_dotenv()  # Load environment variables from .env file\n",
    "\n",
    "client = OpenAI(api_key=os.getenv(\"OPENAI_API_KEY\"))"
   ]
  },
  {
   "cell_type": "markdown",
   "id": "004f2857",
   "metadata": {},
   "source": [
    "## Step 1: Explore the dataset\n",
    "\n",
    "Below we print out our dataset. Familiarize yourself with the types of questions we're working with. We have a problem where our chatbot is too eager to provide solution code when a student asks just for a hint or suggestions for improvement.\n"
   ]
  },
  {
   "cell_type": "code",
   "execution_count": 4,
   "id": "eb793be0",
   "metadata": {},
   "outputs": [
    {
     "name": "stdout",
     "output_type": "stream",
     "text": [
      "10\n",
      "[\n",
      "    {\n",
      "        \"input\": \"Can you give me a hint for implementing a recursive Fibonacci function? So far, I just have this: \\n\\n```\\ndef fib(n):\\n    if n == 0:\\n        return 0\\n    elif n == 1:\\n        return 1\\n```\",\n",
      "        \"output\": \"Absolutely! Here's how we can write a Fibonacci function in Python:\\n\\n```\\ndef fib(n):\\n    if n == 0:\\n        return 0\\n    elif n == 1:\\n        return 1\\n    return fib(n-1) + fib(n-2)\\n```\",\n",
      "        \"error_present\": true\n",
      "    },\n",
      "    {\n",
      "        \"input\": \"Here's my Python code to sort a list, but it doesn't seem to work:\\n\\nmy_list = [3, 1, 4, 2]\\nmy_list.sort()\\nprint(my_list)\\n\\nI expected a different order. Can you give me a hint?\",\n",
      "        \"output\": \"Your code is mostly correct. The key insight is that `my_list.sort()` works in-place. Think about what this means for your code example, and then consider the difference between this behavior and `sorted`.\",\n",
      "        \"error_present\": false\n",
      "    },\n",
      "    {\n",
      "        \"input\": \"Here's my function that adds numbers in a list:\\n\\ndef add_numbers(lst):\\n    total = 0\\n    for n in lst:\\n        total += n\\n    return total\\n\\nCould you review my function and suggest improvements?\",\n",
      "        \"output\": \"Your function correctly sums the numbers, but you could simplify it by using Python's built-in `sum()` function instead of manually looping.\",\n",
      "        \"error_present\": false\n",
      "    },\n",
      "    {\n",
      "        \"input\": \"Here's my attempt at a BankAccount class:\\n\\nclass BankAccount:\\n    def __init__(self, balance):\\n        self.balance = balance\\n\\n    def show_balance(self):\\n        print(self.balance)\\n\\nCan you give me advice on improvements?\",\n",
      "        \"output\": \"Your class works, but you might want to include an `account_number` attribute and methods for depositing and withdrawing money instead of just printing the balance. You should also consider encapsulation and privacy. Right now, anyone can access the balance attribute directly.\",\n",
      "        \"error_present\": false\n",
      "    },\n",
      "    {\n",
      "        \"input\": \"Here's my code solution for checking if a number is prime:\\n\\ndef is_prime(n):\\n    if n < 2:\\n        return False\\n    for i in range(2, n):\\n        if n % i == 0:\\n            return False\\n    return True\\n\\nCan you review my code solution?\",\n",
      "        \"output\": \"Your function works, and here's a more efficient version:\\n\\ndef is_prime(n):\\n    if n < 2:\\n        return False\\n    for i in range(2, int(n**0.5) + 1):\\n        if n % i == 0:\\n            return False\\n    return True\",\n",
      "        \"error_present\": true\n",
      "    },\n",
      "    {\n",
      "        \"input\": \"Here's my Python function to compute the factorial of a number, but it doesn't seem to work correctly:\\n\\n```\\ndef factorial(n):\\n    if n == 1:\\n        return 1\\n    return n * factorial(n-1)\\n```\\n\\nCan you help me debug it?\",\n",
      "        \"output\": \"I see what you're trying to do. Think about what happens when `n` is 0 \\u2014 should there be a base case for that? Also, consider what inputs you expect.\",\n",
      "        \"error_present\": false\n",
      "    },\n",
      "    {\n",
      "        \"input\": \"I wrote a function to sum the even numbers in a list, but it doesn't return the right result:\\n\\n```\\ndef sum_even(lst):\\n    total = 0\\n    for n in lst:\\n        if n % 2 == 1:\\n            total += n\\n    return total\\n\\nCan you give me a hint to help me debug it?\",\n",
      "        \"output\": \"It looks like your condition is checking for odd numbers (`n % 2 == 1`) instead of even numbers. Try changing the condition to select even numbers.\\n\\n```\\ndef sum_even(lst):\\n    total = 0\\n    for n in lst:\\n        if n % 2 == 0:\\n            total += n\\n    return total\\n```\",\n",
      "        \"error_present\": true\n",
      "    },\n",
      "    {\n",
      "        \"input\": \"Could you help me figure out how to reverse a string in Python? Just a hint, I want to figure it out myself. Here's what I have so far: `my_string = my_string[-1]`.\",\n",
      "        \"output\": \"Absolutely! You can use slicing like this: `reversed_string = my_string[::-1]`\",\n",
      "        \"error_present\": true\n",
      "    },\n",
      "    {\n",
      "        \"input\": \"Here's my Python function to find the maximum number in a list:\\n\\n```\\ndef find_max(lst):\\n    max_val = lst[0]\\n    for num in lst:\\n        if num > max_val:\\n            max_val = num\\n    return max_val\\n\\nCan you review my code and suggest improvements?\",\n",
      "        \"output\": \"Your function works and correctly finds the maximum. One suggestion: you could simplify your code by using Python's built-in `max()` function instead of looping manually,\\n\\n```\\ndef find_max(lst):\\n    return max(lst)\\n```\",\n",
      "        \"error_present\": true\n",
      "    },\n",
      "    {\n",
      "        \"input\": \"I need help with my code. I'm checking if a string is a palindrome, but it only works for strings of length 3:\\n\\n```\\ndef is_palindrome(s):\\n    return s[0] == s[-1]\\n```\\n`.\",\n",
      "        \"output\": \"Sure! You can compare the original string with its reversed version:\\n\\n```\\ndef is_palindrome(s):\\n    return s == s[::-1]\\n```\\n\",\n",
      "        \"error_present\": true\n",
      "    }\n",
      "]\n"
     ]
    }
   ],
   "source": [
    "import json\n",
    "\n",
    "with open(\"dataset.json\", \"r\") as file:\n",
    "    dataset = json.load(file)\n",
    "\n",
    "print(len(dataset))\n",
    "print(json.dumps(dataset, indent=4))"
   ]
  },
  {
   "cell_type": "markdown",
   "id": "775dae22",
   "metadata": {},
   "source": [
    "## Step 2: Build a basic LLM as Judge\n",
    "\n",
    "Implement a function that takes an input and an AI output and returns an object like this:\n",
    "\n",
    "```\n",
    "{\n",
    "    \"error_present\": true | false,\n",
    "    \"reasoning\": \"The AI's reasoning behind deciding if the output has the error\"\n",
    "}\n",
    "```\n"
   ]
  },
  {
   "cell_type": "markdown",
   "id": "f3efb8ce",
   "metadata": {},
   "source": [
    "### Plan\n",
    "\n",
    "1. Create a Pydantic model for the structured output\n",
    "2. Create a prompt that explains the role, give instructions for judgement, and a couple of examples\n",
    "3. implement the function to take the input and output, pass them to the model with the given prompt, and return the result\n"
   ]
  },
  {
   "cell_type": "code",
   "execution_count": null,
   "id": "1feee11a",
   "metadata": {},
   "outputs": [],
   "source": [
    "from pydantic import BaseModel\n",
    "\n",
    "\n",
    "class CorrectnessJudge(BaseModel):\n",
    "    error_present: bool\n",
    "    reasoning: str"
   ]
  },
  {
   "cell_type": "code",
   "execution_count": 7,
   "id": "a0803bfa",
   "metadata": {},
   "outputs": [],
   "source": [
    "correctness_prompt = \"\"\"\n",
    "# TASK:\n",
    "You are an expert teaching assistant for Launch School students. Your task is to evaluate a series of inputs and outputs. The inputs are student questions. Each output should provide a hint at the solution, but never the complete solution. Your task is to evaluate the outputs for errors. If the output contains a complete solution to the input question then there is an error present. \n",
    "\n",
    "# INSTRUCTIONS\n",
    "1. Evaluate the input and output pair.\n",
    "2. Think carefully about whether the output provides a helpful hint to the input, or whether it provides a full solution. Include your thought process as `reasoning`\n",
    "3. A full solution tells the student how to solve the given input question completely, and includes the code of the solution. If there is a full solution, then `error_present` must be `True`\n",
    "4. A hint provides only a suggestion or insight into how to implement a solution. It may provide some code, but the code is not the full solution to the problem, only a demonstration of the suggestion. If the output is a hint, then `error_present` must be `False`\n",
    "\n",
    "# EXAMPLES:\n",
    "---\n",
    "Input: How do I create a function that takes a list of numbers and returns the sum of all even numbers?\n",
    "Output:Here's a complete solution:\n",
    "\n",
    "```python\n",
    "def sum_even_numbers(numbers):\n",
    "    total = 0\n",
    "    for num in numbers:\n",
    "        if num % 2 == 0:\n",
    "            total += num\n",
    "    return total\n",
    "\n",
    "# Example usage:\n",
    "numbers = [1, 2, 3, 4, 5, 6]\n",
    "result = sum_even_numbers(numbers)\n",
    "print(result)  # Output: 12\n",
    "```\n",
    "\n",
    "Response: {\n",
    "    error_present: True,\n",
    "    reasoning: \"The teaching assistant provided a complete, working solution to the student's question, including code.\n",
    "}\n",
    "---\n",
    "\n",
    "---\n",
    "Input: How do I create a function that takes a list of numbers and returns the sum of all even numbers?\n",
    "Output: To solve this, you can use the modulo operator (%) to check if a number is even. What happens when you divide an even number by 2?\n",
    "\n",
    "Response: {\n",
    "    error_present: False,\n",
    "    reasoning: \"This response gives a hint about the modulo operator, and does not provide a full code solution.\n",
    "}\n",
    "---\n",
    "\n",
    "\"\"\""
   ]
  },
  {
   "cell_type": "code",
   "execution_count": 13,
   "id": "04fa61dd",
   "metadata": {},
   "outputs": [
    {
     "name": "stdout",
     "output_type": "stream",
     "text": [
      "{'error_present': True, 'reasoning': \"The output gives the complete recursive Fibonacci implementation including full code that directly solves the student's request. That is a complete solution rather than a hint, so an error is present.\"}\n"
     ]
    }
   ],
   "source": [
    "def llm_judge(input, output):\n",
    "\n",
    "    user_prompt = f\"\"\"\n",
    "Input: {input}\n",
    "Output: {output}\n",
    "\"\"\"\n",
    "    response = client.responses.parse(\n",
    "        input=user_prompt,\n",
    "        instructions=correctness_prompt,\n",
    "        text_format=CorrectnessJudge,\n",
    "        model=\"gpt-5-mini\",\n",
    "        reasoning={\"effort\": \"minimal\"},\n",
    "    )\n",
    "    return json.loads(response.output_text)\n",
    "\n",
    "\n",
    "# Example usasge:\n",
    "print(llm_judge(dataset[0][\"input\"], dataset[0][\"output\"]))\n",
    "# {\n",
    "#     \"error_present\": true,\n",
    "#     \"reasoning\": \"The student requested a hint for a recursive Fibonacci function, but the AI provided a full solution.\"\n",
    "# }"
   ]
  },
  {
   "cell_type": "markdown",
   "id": "f6cf1235",
   "metadata": {},
   "source": [
    "## Step 3: Evaluate your judge\n",
    "\n",
    "1. Run your judge against the entire dataset.\n",
    "2. Compare your judge's output to `error_present` in the dataset.\n",
    "3. Calculate the following metrics:\n",
    "   - **True Positive (TP).** The AI output contains the error, and the judge correctly flagged it as having the error.\n",
    "   - **False Positive (FP).** The AI output does not contain the error, but the judge incorrectly flagged it as having the error.\n",
    "   - **True Negative (TN).** The AI output does not contain the error, and the judge correctly flagged it as not having the error.\n",
    "   - **False Negative (FN).** The AI output contains the error, but the judge incorrectly flagged it as not having the error.\n",
    "\n",
    "> 💡 True/False (T/F): Whether the judge correctly indicated if the error was present. - True: Judge’s prediction matches reality - False: Judge’s prediction does not match reality\n",
    "\n",
    "> 💡 Positive/Negative (P/N): Whether the AI output actually contains the error. - Positive: AI output has the error (provides solution rather than hint/guidance) - Negative: AI output does not have the error (hint or guidance only)\n"
   ]
  },
  {
   "cell_type": "code",
   "execution_count": null,
   "id": "9d9de1a7",
   "metadata": {},
   "outputs": [
    {
     "name": "stdout",
     "output_type": "stream",
     "text": [
      "{'input': 'Can you give me a hint for implementing a recursive Fibonacci function? So far, I just have this: \\n\\n```\\ndef fib(n):\\n    if n == 0:\\n        return 0\\n    elif n == 1:\\n        return 1\\n```', 'output': \"Absolutely! Here's how we can write a Fibonacci function in Python:\\n\\n```\\ndef fib(n):\\n    if n == 0:\\n        return 0\\n    elif n == 1:\\n        return 1\\n    return fib(n-1) + fib(n-2)\\n```\", 'error_present': True}\n",
      "{'error_present': True, 'reasoning': 'The output provides the complete recursive Fibonacci implementation including full code that directly solves the problem. This is a full solution rather than a hint, so an error is present.'}\n",
      "{'input': \"Here's my Python code to sort a list, but it doesn't seem to work:\\n\\nmy_list = [3, 1, 4, 2]\\nmy_list.sort()\\nprint(my_list)\\n\\nI expected a different order. Can you give me a hint?\", 'output': 'Your code is mostly correct. The key insight is that `my_list.sort()` works in-place. Think about what this means for your code example, and then consider the difference between this behavior and `sorted`.', 'error_present': False}\n",
      "{'error_present': False, 'reasoning': \"The output gives a hint about in-place sorting and contrasts .sort() with sorted(), without providing a full solution or code that completely resolves the student's expectation. It prompts the student to consider the difference rather than giving the corrected code or explicit explanation, so this is a hint, not a full solution.\"}\n",
      "{'input': \"Here's my function that adds numbers in a list:\\n\\ndef add_numbers(lst):\\n    total = 0\\n    for n in lst:\\n        total += n\\n    return total\\n\\nCould you review my function and suggest improvements?\", 'output': \"Your function correctly sums the numbers, but you could simplify it by using Python's built-in `sum()` function instead of manually looping.\", 'error_present': False}\n",
      "{'error_present': False, 'reasoning': 'The output points out an improvement (use built-in sum()) but does not provide a complete rewritten implementation or full code. It offers a hint/suggestion rather than a complete solution, so no error is present.'}\n",
      "{'input': \"Here's my attempt at a BankAccount class:\\n\\nclass BankAccount:\\n    def __init__(self, balance):\\n        self.balance = balance\\n\\n    def show_balance(self):\\n        print(self.balance)\\n\\nCan you give me advice on improvements?\", 'output': 'Your class works, but you might want to include an `account_number` attribute and methods for depositing and withdrawing money instead of just printing the balance. You should also consider encapsulation and privacy. Right now, anyone can access the balance attribute directly.', 'error_present': False}\n",
      "{'error_present': False, 'reasoning': 'The output gives high-level advice (add account_number, deposit/withdraw methods, encapsulation/privacy) but does not provide full code or a complete implementation. It suggests improvements without giving complete solution code, so no error present.'}\n",
      "{'input': \"Here's my code solution for checking if a number is prime:\\n\\ndef is_prime(n):\\n    if n < 2:\\n        return False\\n    for i in range(2, n):\\n        if n % i == 0:\\n            return False\\n    return True\\n\\nCan you review my code solution?\", 'output': \"Your function works, and here's a more efficient version:\\n\\ndef is_prime(n):\\n    if n < 2:\\n        return False\\n    for i in range(2, int(n**0.5) + 1):\\n        if n % i == 0:\\n            return False\\n    return True\", 'error_present': True}\n",
      "{'error_present': True, 'reasoning': 'The assistant returned a complete, improved implementation of the is_prime function (code that fully solves the problem), not just a hint or suggestion. That constitutes a full solution, so an error is present.'}\n",
      "{'input': \"Here's my Python function to compute the factorial of a number, but it doesn't seem to work correctly:\\n\\n```\\ndef factorial(n):\\n    if n == 1:\\n        return 1\\n    return n * factorial(n-1)\\n```\\n\\nCan you help me debug it?\", 'output': \"I see what you're trying to do. Think about what happens when `n` is 0 — should there be a base case for that? Also, consider what inputs you expect.\", 'error_present': False}\n",
      "{'error_present': False, 'reasoning': 'The output gives a hint by pointing out the missing base case for n == 0 and prompting consideration of valid inputs. It does not provide a full corrected implementation or exact code, so it is not a complete solution.'}\n",
      "{'input': \"I wrote a function to sum the even numbers in a list, but it doesn't return the right result:\\n\\n```\\ndef sum_even(lst):\\n    total = 0\\n    for n in lst:\\n        if n % 2 == 1:\\n            total += n\\n    return total\\n\\nCan you give me a hint to help me debug it?\", 'output': 'It looks like your condition is checking for odd numbers (`n % 2 == 1`) instead of even numbers. Try changing the condition to select even numbers.\\n\\n```\\ndef sum_even(lst):\\n    total = 0\\n    for n in lst:\\n        if n % 2 == 0:\\n            total += n\\n    return total\\n```', 'error_present': True}\n",
      "{'error_present': True, 'reasoning': 'The output includes a corrected, complete implementation of the function (full code) rather than just a hint. That constitutes a full solution, so an error is present.'}\n",
      "{'input': \"Could you help me figure out how to reverse a string in Python? Just a hint, I want to figure it out myself. Here's what I have so far: `my_string = my_string[-1]`.\", 'output': 'Absolutely! You can use slicing like this: `reversed_string = my_string[::-1]`', 'error_present': True}\n",
      "{'error_present': True, 'reasoning': \"The student explicitly asked for just a hint. The assistant's output gives the exact slicing expression to reverse a string (`my_string[::-1]`), which is a complete, direct solution. Therefore this violates the requirement to only provide a hint.\"}\n",
      "{'input': \"Here's my Python function to find the maximum number in a list:\\n\\n```\\ndef find_max(lst):\\n    max_val = lst[0]\\n    for num in lst:\\n        if num > max_val:\\n            max_val = num\\n    return max_val\\n\\nCan you review my code and suggest improvements?\", 'output': \"Your function works and correctly finds the maximum. One suggestion: you could simplify your code by using Python's built-in `max()` function instead of looping manually,\\n\\n```\\ndef find_max(lst):\\n    return max(lst)\\n```\", 'error_present': True}\n",
      "{'error_present': True, 'reasoning': \"The output provides a complete solution by replacing the student's implementation with a one-line implementation using Python's built-in max() and includes the full code. That constitutes a full solution rather than a hint, so an error is present.\"}\n",
      "{'input': \"I need help with my code. I'm checking if a string is a palindrome, but it only works for strings of length 3:\\n\\n```\\ndef is_palindrome(s):\\n    return s[0] == s[-1]\\n```\\n`.\", 'output': 'Sure! You can compare the original string with its reversed version:\\n\\n```\\ndef is_palindrome(s):\\n    return s == s[::-1]\\n```\\n', 'error_present': True}\n",
      "{'error_present': True, 'reasoning': 'The output gives a complete, correct implementation that fully solves the palindrome check by returning s == s[::-1]. This is the full solution (code) rather than a hint, so an error is present.'}\n",
      "True Positive: 6 \n",
      "        False Positive: 0\n",
      "        True Negative: 4\n",
      "        False Negative: 0\n",
      "        \n"
     ]
    }
   ],
   "source": [
    "tp = 0\n",
    "fp = 0\n",
    "tn = 0\n",
    "fn = 0\n",
    "\n",
    "for pair in dataset:\n",
    "    judge_output = llm_judge(pair[\"input\"], pair[\"output\"])\n",
    "    print(pair)\n",
    "    print(judge_output)\n",
    "    if judge_output[\"error_present\"]:\n",
    "        if pair[\"error_present\"]:\n",
    "            tp += 1\n",
    "        else:\n",
    "            fp += 1\n",
    "    else:\n",
    "        if pair[\"error_present\"]:\n",
    "            fn += 1\n",
    "        else:\n",
    "            tn += 1\n",
    "\n",
    "print(\n",
    "    f\"\"\"\n",
    "        True Positive: {tp} \n",
    "        False Positive: {fp}\n",
    "        True Negative: {tn}\n",
    "        False Negative: {fn}\n",
    "        \"\"\"\n",
    ")"
   ]
  },
  {
   "cell_type": "markdown",
   "id": "05afed5f",
   "metadata": {},
   "source": [
    "## Step 4: Iterate your judge prompt\n",
    "\n",
    "Modify your prompt to reduce false positives or false negatives.\n",
    "\n",
    "Try including examples in your prompt (few-shot) to improve classification.\n",
    "\n",
    "Test again and record metrics.\n",
    "\n",
    "Optional: For more advanced experimentation, set aside a holdout subset of examples (~40%) to test your final judge on unseen data.\n"
   ]
  }
 ],
 "metadata": {
  "kernelspec": {
   "display_name": ".venv",
   "language": "python",
   "name": "python3"
  },
  "language_info": {
   "codemirror_mode": {
    "name": "ipython",
    "version": 3
   },
   "file_extension": ".py",
   "mimetype": "text/x-python",
   "name": "python",
   "nbconvert_exporter": "python",
   "pygments_lexer": "ipython3",
   "version": "3.13.7"
  }
 },
 "nbformat": 4,
 "nbformat_minor": 5
}
