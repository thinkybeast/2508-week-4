{
  "cells": [
    {
      "cell_type": "markdown",
      "metadata": {
        "id": "dWAkoXkf5Jwz"
      },
      "source": [
        "## Expense Tracker\n",
        "\n",
        "In this lab we'll bring together what we've learned about structured data and function calling to create an application that helps us track our expenses. We'd like to take some user input and allow an agent to decide which tools are required to complete the users request.\n",
        "\n",
        "Again, refer to the [function calling guide](https://platform.openai.com/docs/guides/function-calling) for help."
      ]
    },
    {
      "cell_type": "markdown",
      "metadata": {
        "id": "cPHc7Qts6UhP"
      },
      "source": [
        "## Step 1: Setup"
      ]
    },
    {
      "cell_type": "code",
      "execution_count": null,
      "metadata": {
        "id": "zZkXXMN35C1a"
      },
      "outputs": [],
      "source": [
        "import os\n",
        "from openai import OpenAI\n",
        "from dotenv import load_dotenv\n",
        "\n",
        "load_dotenv()  # Load environment variables from .env file\n",
        "\n",
        "client = OpenAI(api_key=os.getenv(\"OPENAI_API_KEY\"))\n",
        "\n",
        "MODEL = 'gpt-4o-mini'"
      ]
    },
    {
      "cell_type": "markdown",
      "metadata": {},
      "source": [
        "## Step 2: Defining Application Logic\n",
        "\n",
        "Before we define an agent, we need something for it to interact with. We’ll build a simple expense tracker that supports three core actions:\n",
        "\n",
        "- Add expenses (e.g., from a memo like “I spent $20 on groceries”)\n",
        "- View a summary of expenses (totals, counts, breakdowns)\n",
        "- List all expenses\n",
        "\n",
        "> 💡 In yesterday’s lab, our `Expense` objects included a date attribute. For now, ignore dates to keep the exercise focused. You’ll have a chance to tackle date support in the bonus section later if you want to.\n",
        "\n",
        "### Part A: Design the Expense Data Structure\n",
        "\n",
        "Decide how to represent expenses in your program. For example, you might use a list of dictionaries, where each dictionary has fields like `amount`, `category`, and `description`.\n",
        "\n",
        "### Part B: Implement Application Functions\n",
        "\n",
        "Write Python functions that implement the three actions:\n",
        "\n",
        "- `add_expense`: Add one or more expenses to your data structure.\n",
        "  Tip: You can reuse the `extract_expenses_data` function from yesterday's lab if you like, but this is optional. Function calling can also handle some data extraction for you, so choose whichever approach feels most intuitive. Returns a list of objects representing the expenses that were added.\n",
        "- `summarize_expenses`: Returns a summary object (total spent, number of expenses, breakdown by category).\n",
        "- `list_expenses`: Return the list of all recorded expenses.\n",
        "\n",
        "> 💡 The 'Example Usage' is just for demonstration. You can design your objects however you'd like."
      ]
    },
    {
      "cell_type": "code",
      "execution_count": null,
      "metadata": {},
      "outputs": [],
      "source": [
        "class ExpenseTracker:\n",
        "\n",
        "    # TODO\n",
        "\n",
        "    pass\n",
        "\n",
        "\n",
        "# Example Usage:\n",
        "my_tracker = ExpenseTracker()\n",
        "\n",
        "print(my_tracker.add_expense(100.0, \"Groceries\", \"Groceries\"))\n",
        "# amount=100.0 category='Groceries' description='Groceries'\n",
        "\n",
        "print(my_tracker.add_expense(25.0, \"Eating Out\", \"Lunch with friends\"))\n",
        "# amount=25.0 category='Eating Out' description='Lunch with friends'\n",
        "\n",
        "print(my_tracker.summarize_expenses())\n",
        "# {\n",
        "#     \"total_spent\": 125.00,\n",
        "#     \"number_of_expenses\": 2,\n",
        "#     \"breakdown\": {\n",
        "#         \"Groceries\": 100.00,\n",
        "#         \"Eating Out\": 25.00\n",
        "#     }\n",
        "# }\n",
        "\n",
        "print(my_tracker.list_expenses())\n",
        "# [Expense(amount=100.0, category='Groceries', description='Groceries'), Expense(amount=25.0, category='Eating Out', description='Lunch with friends')]"
      ]
    },
    {
      "cell_type": "markdown",
      "metadata": {
        "id": "_ArG8WNe_H8M"
      },
      "source": [
        "## Step 3: Getting Agentic\n",
        "\n",
        "It's time to build our agent. You'll need:\n",
        "\n",
        "- **Tool descriptions.** Make sure the descriptions are clear, match your function signatures, and align with the expected shape.\n",
        "- **An agent.** Your agent should take a user query as input and use it's available tools to decide what to do.\n",
        "\n",
        "> 💡 Depending on your implementation, you might have trouble with the 'category' of the 'Lunch with friends' expense. We'll look at this problem in the bonus exercises.\n",
        "\n",
        "For now, we can use logging to see that our tools are being called correctly. In the next step, we'll add a user interface to share what's happening behind the scenes."
      ]
    },
    {
      "cell_type": "code",
      "execution_count": null,
      "metadata": {},
      "outputs": [],
      "source": [
        "# TODO: Define tools and agent to use them\n",
        "\n",
        "# Example Usage:\n",
        "\n",
        "my_tracker = ExpenseTracker()\n",
        "\n",
        "print(handle_expense_query(my_tracker, \"I spent $100 on groceries yesterday\"))\n",
        "# [Expense(amount=100.0, category='Groceries', description='Groceries')]\n",
        "\n",
        "print('--------------------------------')\n",
        "\n",
        "print(handle_expense_query(my_tracker, \"twenty-five dollars on lunch with friends\"))\n",
        "# [Expense(amount=25.0, category='Eating Out', description='Lunch with friends')]\n",
        "\n",
        "print('--------------------------------')\n",
        "\n",
        "print(handle_expense_query(my_tracker, \"Show me a summary of my expenses\"))\n",
        "# {\n",
        "#     \"total_spent\": 125.00,\n",
        "#     \"number_of_expenses\": 2,\n",
        "#     \"breakdown\": {\n",
        "#         \"Groceries\": 100.00,\n",
        "#         \"Eating Out\": 25.00\n",
        "#     }\n",
        "# }\n",
        "\n",
        "print('--------------------------------')\n",
        "\n",
        "print(handle_expense_query(my_tracker, \"List all my expenses\"))\n",
        "# [Expense(amount=100.0, category='Groceries', description='Groceries'), Expense(amount=25.0, category='Eating Out', description='Lunch with friends')]"
      ]
    },
    {
      "cell_type": "markdown",
      "metadata": {},
      "source": [
        "## Step 4: Using our Tool Call Results\n",
        "\n",
        "Now that we can see our tools are being called correctly, we need to do something with their results. Some of our tools have side effects, and some of them just fetch information for us. Our next step is to bundle up all of our context and make one final LLM call to get a response for our user.\n",
        "\n",
        "Instead of something like `[Expense(amount=25.0, category='Eating Out', description='Lunch with friends')]` to indicate that we've added a new expense, our user should see something like:\n",
        "\n",
        "> Great! I've added a new expense of $25 with the category of \"Eating Out\" and a description of \"Lunch with friends.\" Let me know if you have any other expenses you'd like to add."
      ]
    },
    {
      "cell_type": "code",
      "execution_count": null,
      "metadata": {},
      "outputs": [],
      "source": [
        "# TODO: Update `handle_expense_query` to return a user-friendly message about what it's\n",
        "#       accomplished rather than logging the results of tool calls.\n",
        "\n",
        "# Example Usage:\n",
        "\n",
        "my_tracker = ExpenseTracker()\n",
        "\n",
        "print(handle_expense_query(my_tracker, \"I spent $100 on groceries yesterday\"))\n",
        "# Great job on keeping track of your expenses! I've noted that you spent $100 on groceries yesterday. If you need any more help with your budgeting or tracking other expenses, just let me know!\n",
        "\n",
        "print('--------------------------------')\n",
        "\n",
        "print(handle_expense_query(my_tracker, \"twenty-five dollars on lunch with friends\"))\n",
        "# Perfect! I've added a new expense of $25 with the category of \"Eating Out\" and a description of \"Lunch with friends.\" Would you like to add another expense?\n",
        "\n",
        "print('--------------------------------')\n",
        "\n",
        "print(handle_expense_query(my_tracker, \"Show me a summary of my expenses\"))\n",
        "# Here's a summary of your expenses:\n",
        "# Total spent: $125.00\n",
        "# Number of expenses: 2\n",
        "# Breakdown:\n",
        "#   Groceries: $100.00\n",
        "#   Eating Out: $25.00\n",
        "#\n",
        "# Let me know if you'd like to add another expense or see a list of all your expenses.\n",
        "\n",
        "print('--------------------------------')\n",
        "\n",
        "print(handle_expense_query(my_tracker, \"List all my expenses\"))\n",
        "# I've gathered all your expenses for you! Here’s what I found:\n",
        "#   1. **Groceries**: $100.00 (Grocery shopping yesterday)\n",
        "#   2. **Eating Out**: $25.00 (Lunch with friends)\n",
        "#\n",
        "# Let me know if you'd like to add another expense or see a summary of your expenses."
      ]
    },
    {
      "cell_type": "markdown",
      "metadata": {},
      "source": [
        "## Step 5: Get User Input + Bonuses\n",
        "\n",
        "Set up a simple interface (command line, Gradio, etc.) to test how your agent manages expenses.\n",
        "\n",
        "### Bonus Challenges\n",
        "\n",
        "Think about these questions as ways to stretch your app design. You don’t need to implement them, but consider the trade-offs and implications, and have a go if you have time.\n",
        "\n",
        "1. **Multiple expenses in one input**\n",
        "    - Example: “Yesterday I spent $100 on groceries and $20 on lunch.”\n",
        "    - Should this create two expenses at once, or should the agent call add_expense twice?\n",
        "\n",
        "2. **Category consistency**\n",
        "    - How are categories assigned?\n",
        "    - What happens if similar phrases create slightly different categories (e.g., “dining out” vs. “restaurant”)?\n",
        "    - Should category logic live in the agent, in `add_expense`, or somewhere else?\n",
        "\n",
        "3. **Multi-step queries**\n",
        "    - Example: “Add an expense for eating out, $40, then show me my updated summary.”\n",
        "    - How should the system handle a request that chains multiple actions?\n",
        "\n",
        "4. **Category- or time-specific summaries**\n",
        "    - Example: “How much have I spent on groceries this month?”\n",
        "    - What extra logic is needed to support filtering by category and/or date?\n",
        "\n",
        "5. **Searching or editing expenses**\n",
        "    - Could we provide a way for users to search for expenses? How could that work?"
      ]
    },
    {
      "cell_type": "code",
      "execution_count": null,
      "metadata": {},
      "outputs": [],
      "source": [
        "# TODO: Build Expense Tracker Interface"
      ]
    }
  ],
  "metadata": {
    "colab": {
      "provenance": []
    },
    "kernelspec": {
      "display_name": "Python 3",
      "name": "python3"
    },
    "language_info": {
      "name": "python"
    }
  },
  "nbformat": 4,
  "nbformat_minor": 0
}
