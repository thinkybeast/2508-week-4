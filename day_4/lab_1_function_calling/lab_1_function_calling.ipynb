{
  "cells": [
    {
      "cell_type": "markdown",
      "metadata": {
        "id": "dWAkoXkf5Jwz"
      },
      "source": [
        "# Function Calling\n",
        "\n",
        "In this lab, we'll work through a very basic function calling example. The 'agent' buzzword can feel big and scary, but here we'll see that it's a very straightforward tool in which we provide an LLM with explanations of our tools, and it chooses one (or more, or none!) to 'call'.\n",
        "\n",
        "If you need any help during this lab, you can refer to the [Function calling guide here](https://platform.openai.com/docs/guides/function-calling)."
      ]
    },
    {
      "cell_type": "markdown",
      "metadata": {
        "id": "cPHc7Qts6UhP"
      },
      "source": [
        "## Step 1: Setup"
      ]
    },
    {
      "cell_type": "code",
      "execution_count": null,
      "metadata": {
        "id": "zZkXXMN35C1a"
      },
      "outputs": [],
      "source": [
        "import os\n",
        "import json\n",
        "from dotenv import load_dotenv\n",
        "from openai import OpenAI\n",
        "\n",
        "load_dotenv()  # Load environment variables from .env file\n",
        "\n",
        "client = OpenAI(api_key=os.getenv(\"OPENAI_API_KEY\"))\n",
        "\n",
        "MODEL = \"gpt-4o-mini\""
      ]
    },
    {
      "cell_type": "markdown",
      "metadata": {
        "id": "3NpKXPJVKn-A"
      },
      "source": [
        "## Step 2: Describing our Tools\n",
        "\n",
        "We need to provide the agent with descriptions of the tools we want it to use. This helps the agent understand what each function does and what parameters it expects. We're intentionally doing this step _before_ we actually write the functions, because we want to prove once and for all that the LLM _isn't calling our functions_. It's just telling _us_ what we should call.\n",
        "\n",
        "Though many of them are self explanatory, here's a breakdown of what each key does in the following tools:\n",
        "\n",
        "- `\"type\": \"function\"`: This tool is a function.\n",
        "- `\"name\": \"add\"`: The name of the function is `add`. Very important.\n",
        "- `\"description\": \"Add two numbers\"`: This function adds two numbers.\n",
        "- `\"parameters\": {...}`: Here's a dictionary containing information about what parameters the function takes.\n",
        "- `\"type\": \"object\"`: This function takes a dictionary/object as an argument.\n",
        "- `\"properties\": {...},`: This dictionary describes the properties of the dictionary that the function takes as an argument.\n",
        "- `\"a\": {\"type\": \"number\", \"description\": \"First number\"}` & `\"b\": {\"type\": \"number\", \"description\": \"Second number\"}`: The dictionary should have two keys, `a`, and `b`, both of type number. `a` represents something called `\"First number\"` and `b` represents something called `\"Second number\"`.\n",
        "- `\"required\": [\"a\", \"b\"]`: The object passed as an argument as a function is required to have both `a` and `b` properties.\n"
      ]
    },
    {
      "cell_type": "code",
      "execution_count": null,
      "metadata": {
        "id": "uVx3Wkrj7bPK"
      },
      "outputs": [],
      "source": [
        "tools = [\n",
        "    {\n",
        "        \"type\": \"function\",\n",
        "        \"name\": \"add\",\n",
        "        \"description\": \"Add two numbers\",\n",
        "        \"parameters\": {\n",
        "            \"type\": \"object\",\n",
        "            \"properties\": {\n",
        "                \"a\": {\"type\": \"number\", \"description\": \"First number\"},\n",
        "                \"b\": {\"type\": \"number\", \"description\": \"Second number\"},\n",
        "            },\n",
        "            \"required\": [\"a\", \"b\"],\n",
        "        },\n",
        "    },\n",
        "    {\n",
        "        \"type\": \"function\",\n",
        "        \"name\": \"subtract\",\n",
        "        \"description\": \"Subtract two numbers\",\n",
        "        \"parameters\": {\n",
        "            \"type\": \"object\",\n",
        "            \"properties\": {\n",
        "                \"a\": {\"type\": \"number\", \"description\": \"Minuend\"},\n",
        "                \"b\": {\"type\": \"number\", \"description\": \"Subtrahend\"},\n",
        "            },\n",
        "            \"required\": [\"a\", \"b\"],\n",
        "        }\n",
        "    },\n",
        "    {\n",
        "        \"type\": \"function\",\n",
        "        \"name\": \"multiply\",\n",
        "        \"description\": \"Multiply two numbers\",\n",
        "        \"parameters\": {\n",
        "            \"type\": \"object\",\n",
        "            \"properties\": {\n",
        "                \"a\": {\"type\": \"number\", \"description\": \"First number\"},\n",
        "                \"b\": {\"type\": \"number\", \"description\": \"Second number\"},\n",
        "            },\n",
        "            \"required\": [\"a\", \"b\"],\n",
        "        }\n",
        "    },\n",
        "    {\n",
        "        \"type\": \"function\",\n",
        "        \"name\": \"divide\",\n",
        "        \"description\": \"Divide two numbers\",\n",
        "        \"parameters\": {\n",
        "            \"type\": \"object\",\n",
        "            \"properties\": {\n",
        "                \"a\": {\"type\": \"number\", \"description\": \"Dividend\"},\n",
        "                \"b\": {\"type\": \"number\", \"description\": \"Divisor\"},\n",
        "            },\n",
        "            \"required\": [\"a\", \"b\"],\n",
        "        }\n",
        "    },\n",
        "]"
      ]
    },
    {
      "cell_type": "markdown",
      "metadata": {},
      "source": [
        "## Step 3: Function Calling\n",
        "\n",
        "Remember, we said we were going to use the tools calling feature before we actually define the functions."
      ]
    },
    {
      "cell_type": "code",
      "execution_count": null,
      "metadata": {},
      "outputs": [],
      "source": [
        "messages = [{\"role\": \"user\", \"content\": \"Add three plus five\"}]\n",
        "\n",
        "response = client.responses.create(\n",
        "    model=MODEL,\n",
        "    input=messages,\n",
        "    tools=tools,\n",
        ")\n",
        "\n",
        "# Everything except `response` is just for pretty printing\n",
        "print(json.dumps(response.model_dump(), indent=2))"
      ]
    },
    {
      "cell_type": "markdown",
      "metadata": {},
      "source": [
        "If everything has gone well, you should see a rather large object. Read through it and try to understand what each part is telling us. Most of the bulk is just our list of tools that we passed in.\n",
        "\n",
        "The most important bit looks like this:\n",
        "\n",
        "```json\n",
        "  \"output\": [\n",
        "    {\n",
        "      \"arguments\": \"{\\\"a\\\":3,\\\"b\\\":5}\",\n",
        "      \"call_id\": \"call_IDYbPqowlyfI5xuFYBNyLKM9\",\n",
        "      \"name\": \"add\",\n",
        "      \"type\": \"function_call\",\n",
        "      \"id\": \"fc_68a959e891ac8194a68ddd1194a9fef90ecfe6806f7bf2f7\",\n",
        "      \"status\": \"completed\"\n",
        "    }\n",
        "  ],\n",
        "```\n",
        "\n",
        "This section is where the model is telling us what function it wants to call and with what inputs. Let’s break it down:\n",
        "\n",
        "1. `\"arguments\": \"{\\\"a\\\":3,\\\"b\\\":5}\"`\n",
        "\n",
        "The model decided that the correct inputs are `a = 3` and `b = 5`.\n",
        "\n",
        "Notice the arguments are a JSON string, so you’ll typically need to `json.loads` them in your code before using.\n",
        "\n",
        "2. `\"call_id\": \"call_IDYbPqowlyfI5xuFYBNyLKM9\"`\n",
        "\n",
        "A unique identifier for this particular function call.\n",
        "\n",
        "Useful if multiple calls happen in parallel and you need to match responses to requests.\n",
        "\n",
        "3. `\"name\": \"add\"`\n",
        "\n",
        "The function the model has chosen from our toolset. In this case, it correctly picked add.\n",
        "\n",
        "4. `\"type\": \"function_call\"`\n",
        "\n",
        "Indicates this entry is a function call (not plain text or some other type of output).\n",
        "\n",
        "5. `\"id\": \"fc_68a959e891ac8194a68ddd1194a9fef90ecfe6806f7bf2f7\"`\n",
        "\n",
        "Another unique identifier, this time for the function call object itself.\n",
        "\n",
        "6. `\"status\": \"completed\"`\n",
        "\n",
        "Signals that the function call request was fully generated."
      ]
    },
    {
      "cell_type": "markdown",
      "metadata": {
        "id": "o7PazQob6a7Q"
      },
      "source": [
        "## Step 4: Using Function Calling\n",
        "\n",
        "Earlier, we made a function-calling request to the API even though we hadn't defined any actual functions in our code yet. That worked because the LLM doesn’t directly execute our functions — it just outputs a structured “function call” based on the tool descriptions we give it.\n",
        "\n",
        "Now it’s time to implement the real functions ourselves. Define the functions that we described earlier in the `tools` dictionary.\n",
        "\n",
        "> 💡 **Note**: When we define tools for the function calling API, we describe their inputs as JSON objects. That doesn’t mean our Python functions have to accept a single dictionary argument. While you could write add to take a dict and pull values out of it, the more idiomatic approach is to define add just like any normal Python function (e.g. def add(a, b): ...) and then unpack the arguments from the API response before calling the function."
      ]
    },
    {
      "cell_type": "code",
      "execution_count": null,
      "metadata": {
        "id": "JxztBmb97J1j"
      },
      "outputs": [],
      "source": [
        "# TODO: Define the tools we described in `tools`"
      ]
    },
    {
      "cell_type": "markdown",
      "metadata": {},
      "source": [
        "Now, given our response output and our actual functions, we need to invoke the function with the arguments indicated by our response."
      ]
    },
    {
      "cell_type": "code",
      "execution_count": null,
      "metadata": {},
      "outputs": [],
      "source": [
        "if len(response.output) == 1 and response.output[0].type == \"function_call\":\n",
        "    tool_response = response.output[0]\n",
        "else:\n",
        "    raise ValueError(f\"Expected exactly one tool response, got {len(response.output)}\")\n",
        "\n",
        "print(tool_response.name)\n",
        "print(tool_response.arguments)\n",
        "\n",
        "# TODO: Invoke the function referenced by `function_name` with the arguments referenced by `arguments`\n",
        "# 💡 Hint: You will need a way to associate the string `\"add\"` with the function `add`\n",
        "# 💡 Hint: You will need json.loads for the arguments\n",
        "\n",
        "result = ???"
      ]
    },
    {
      "cell_type": "markdown",
      "metadata": {},
      "source": [
        "Now, we have the result from our tool call. When we pass something like \"What's 4 times 3?\", we're provided with the instructions to invoke `multiply` with the arguments `4` and `3`. We _could_ just output this to our user, but that isn't usually what we want. We're developing chatbots, and we want them to speak like a person! Instead of always responding with something like `12` or `4 * 3 = 12`, we want something like:\n",
        "\n",
        "> Sure! Four times 3 is 12. Let me know if you need anything else.\n",
        "\n",
        "To do this, we need to pass the result of our function call _back_ to an LLM as **new context**.\n",
        "\n",
        "**Note**: You might be thinking, \"Isn't this super contrived? LLMs can do basic multiplication.\" **Yes. It is**. But, let's imagine that LLMs _can't_ do this on their own. If we had more complex calculations, or we were working on this project a couple of years ago, this would be an excellent use case."
      ]
    },
    {
      "cell_type": "code",
      "execution_count": null,
      "metadata": {},
      "outputs": [],
      "source": [
        "# TODO: Pass the result of our function call back to the LLM\n",
        "#       along with the user's original request to get a\n",
        "#       user-friendly response."
      ]
    },
    {
      "cell_type": "markdown",
      "metadata": {
        "id": "fijgXjac70Fb"
      },
      "source": [
        "## A Complete Example\n",
        "\n",
        "Finally, let's pull it all together. Define a function, `calculator`, that prompts the user for a natural language operation request, calls the API, and uses the response to invoke the correct function. Finally, pass the result to another LLM call to get a user-friendly response."
      ]
    },
    {
      "cell_type": "code",
      "execution_count": null,
      "metadata": {
        "id": "ym8P8f3A8BWn"
      },
      "outputs": [],
      "source": [
        "def calculator():\n",
        "    \n",
        "    # TODO\n",
        "    \n",
        "    pass\n",
        "\n",
        "\n",
        "calculator()\n",
        "## Example Usage:\n",
        "# > Please enter a calculation you'd like to perform (e.g. 'Add five and three'):\n",
        "# Whats nine divided by 3?\n",
        "# > Sure! Nine divided by three is 3.0. Let me know if you need anything else."
      ]
    }
  ],
  "metadata": {
    "colab": {
      "provenance": []
    },
    "kernelspec": {
      "display_name": ".venv",
      "language": "python",
      "name": "python3"
    },
    "language_info": {
      "codemirror_mode": {
        "name": "ipython",
        "version": 3
      },
      "file_extension": ".py",
      "mimetype": "text/x-python",
      "name": "python",
      "nbconvert_exporter": "python",
      "pygments_lexer": "ipython3",
      "version": "3.12.2"
    }
  },
  "nbformat": 4,
  "nbformat_minor": 0
}
