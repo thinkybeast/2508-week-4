{
  "cells": [
    {
      "cell_type": "markdown",
      "metadata": {
        "id": "aQAxJP2Jtasq"
      },
      "source": [
        "## Structured Data with OpenAI - Expense Parsing\n",
        "\n",
        "During this lab, our goal is to:\n",
        "\n",
        "- Understand OpenAI's Structured Outputs feature\n",
        "- Learn to define Pydantic models for data extraction\n",
        "- Practice parsing natural language into structured data\n",
        "- Handle edge cases and validation"
      ]
    },
    {
      "cell_type": "markdown",
      "metadata": {
        "id": "JGl6vyDrty0K"
      },
      "source": [
        "## Part 0: Setup"
      ]
    },
    {
      "cell_type": "code",
      "execution_count": null,
      "metadata": {
        "id": "ah5ZU0FbtT9b"
      },
      "outputs": [],
      "source": [
        "import os\n",
        "\n",
        "from dotenv import load_dotenv\n",
        "from openai import OpenAI\n",
        "from pydantic import BaseModel\n",
        "\n",
        "load_dotenv()  # Load environment variables from .env file\n",
        "API_KEY = os.getenv('OPENAI_API_KEY')\n",
        "\n",
        "print(API_KEY)\n",
        "\n",
        "client = OpenAI(api_key=os.getenv(\"OPENAI_API_KEY\"))"
      ]
    },
    {
      "cell_type": "markdown",
      "metadata": {
        "id": "xVbEcC7qtmXy"
      },
      "source": [
        "## Part 1: A Simple Example\n",
        "\n",
        "Let's start by trying to extract out some information about a person using a simple sentence that describes them.\n",
        "\n",
        "To start, we'll define a Pydantic model that represents our `Person` object."
      ]
    },
    {
      "cell_type": "code",
      "execution_count": null,
      "metadata": {
        "id": "Zn8cZr8tuMJO"
      },
      "outputs": [],
      "source": [
        "# Define the structured output schema using Pydantic\n",
        "class Person(BaseModel):\n",
        "    name: str\n",
        "    age: int\n",
        "\n",
        "    def say_hi(self):\n",
        "        print(f\"Hi! I'm {self.name} and I'm {self.age} years old!\")"
      ]
    },
    {
      "cell_type": "markdown",
      "metadata": {
        "id": "2dpcXV7YuL6c"
      },
      "source": [
        "Next, we'll make a call to OpenAI and specify the `text_format` as our `Person`.\n",
        "\n",
        "<details>\n",
        "<summary>🤔 Why `input` instead of `messages`? Why `text_format`? And what about `response_format`?</summary>\n",
        "\n",
        "There are several ways to get structured output, which is why the docs can look inconsistent. Here’s the breakdown:\n",
        "\n",
        "- `input` vs `messages` → The new Responses API uses `input` (which can still take role-based messages). The older Chat Completions API uses messages.\n",
        "- `response_format` → That’s from Chat Completions. Still works, but it’s the legacy way.\n",
        "- `text.format` → The low-level Responses API option for controlling output (plain, markdown, JSON schema, etc.).\n",
        "- `text_format` → A convenience wrapper around `text.format`. With Pydantic models, it automatically generates the schema and parses the response back into your model.\n",
        "\n",
        "Since we’re not calling tools _yet_, the recommended path is to stick with `text_format`. It’s simple, ergonomic, and does the parsing for us. If you want to dig deeper, check out [this guide on choosing the right structured output approach\n",
        "](https://platform.openai.com/docs/guides/structured-outputs#function-calling-vs-response-format)."
      ]
    },
    {
      "cell_type": "code",
      "execution_count": null,
      "metadata": {
        "id": "54xjV8gTuZD-"
      },
      "outputs": [],
      "source": [
        "def extract_user_data(user_description):\n",
        "    response = client.responses.parse(\n",
        "        model=\"gpt-4o-2024-08-06\",\n",
        "        input=[\n",
        "            {\"role\": \"developer\", \"content\": \"Extract the user information.\"},\n",
        "            {\n",
        "                \"role\": \"user\",\n",
        "                \"content\": user_description,\n",
        "            },\n",
        "        ],\n",
        "        text_format=Person,\n",
        "    )\n",
        "\n",
        "    return response.output_parsed\n",
        "\n",
        "\n",
        "user_description = \"Alice is a twenty-five year old.\"\n",
        "user = extract_user_data(user_description)\n",
        "\n",
        "print(user)       # name='Alice' age=25\n",
        "print(type(user)) # <class '__main__.Person'>\n",
        "user.say_hi()     # Hi! I'm Alice and I'm 25 years old!"
      ]
    },
    {
      "cell_type": "markdown",
      "metadata": {
        "id": "BCHokz7IvVgE"
      },
      "source": [
        "Amazing! We took unstructured input and were given back an object that we can use in our code.\n",
        "\n",
        "Let's test the limits of this data extraction. Write several sentences that are less clear than \"Alice is a twenty-five year old.\" and see if the LLM can still extract the correct data. For example, this sentence tends to choose `65` as the age, and `Jenny`, `Jennifer`, or `Jennyfer` as the name:\n",
        "\n",
        "> I've had a lovely time at my retirement party! The only problem is that they spelt my name wrong on the cake. I can't believe anyone would think to spell it 'Jennyfer'!\n",
        "\n",
        "In addition to testing out more elusive inputs, try testing inputs that don't provide the information required, and see what happens."
      ]
    },
    {
      "cell_type": "code",
      "execution_count": null,
      "metadata": {
        "id": "p62_ZHX-u36C"
      },
      "outputs": [],
      "source": [
        "# TODO: Test different inputs:\n",
        "#    - Inputs where the data to extract is unclear.\n",
        "#    - Inputs lacking data that's supposed to be extracted.\n",
        "#    - Inputs with more information than is required.\n",
        "\n",
        "print(\"\\nUnclear or ambiguous input\")\n",
        "unclear_description = \"I've had a lovely time at my retirement party! The only problem is that they spelt my name wrong on the cake. I can't believe anyone would think to spell it 'Jennyfer'!\"\n",
        "user1 = extract_user_data(unclear_description)\n",
        "print(user1)\n",
        "\n",
        "print(\"\\nIncomplete data\")\n",
        "incomplete_description = \"Alice is here.\"\n",
        "user2 = extract_user_data(incomplete_description)\n",
        "print(user2)\n",
        "\n",
        "print(\"\\nExcess information\")\n",
        "verbose_description = \"Sean and James are here. It's both of their birthdays. James is turning 33 and Sean if five years older. They're going to the pub to celebrate.\"\n",
        "user3 = extract_user_data(verbose_description)\n",
        "print(user3)"
      ]
    },
    {
      "cell_type": "markdown",
      "metadata": {
        "id": "ELWl7ZaSxrRh"
      },
      "source": [
        "### Handling Incomplete Data\n",
        "\n",
        "In real-world scenarios, we may run into scenarios where the data we would like isn't present or isn't always present. If you did the above tests, you probably noticed that the LLM will make up data to fill in if it hasn't been provided.\n",
        "\n",
        "To fix this, we need to give the LLM an option to say \"I don't know.\" In Pydantic terms, that means making a field optional."
      ]
    },
    {
      "cell_type": "code",
      "execution_count": null,
      "metadata": {
        "id": "gl5mTjOSycml"
      },
      "outputs": [],
      "source": [
        "# TODO: Update your Pydantic model to allow for incomplete or unknown\n",
        "#       data to prevent hallucinated data in our objects.\n",
        "\n",
        "from typing import Optional\n",
        "\n",
        "class Person(BaseModel):\n",
        "    name: str\n",
        "    age: Optional[int] = None\n",
        "\n",
        "person = extract_user_data('Alice is a woman')\n",
        "print(person)"
      ]
    },
    {
      "cell_type": "markdown",
      "metadata": {
        "id": "jHfKHo9my6r0"
      },
      "source": [
        "## Part 2: Extracting Expense Information\n",
        "\n",
        "On your own, you'll now define a model and test it using the following requirements:\n",
        "\n",
        "Create a Pydantic model named `ExpenseItem` that represents a single item in a list of expenses. Your model should include the following fields:\n",
        "\n",
        "`amount` (required)\n",
        "  - Type: `float`\n",
        "  - Description: A numeric value representing the monetary amount spent.\n",
        "\n",
        "`memo` (required)\n",
        "  - Type: `str`\n",
        "  - Description: A short description or note about what the expense was for.\n",
        "\n",
        "`date` (optional)\n",
        "  - Type: `date` (from the `datetime` module)\n",
        "  - Description: The date the expense occurred in YYYY-MM-DD format. This field may be omitted if the date is unclear or should be inferred from context.\n",
        "\n",
        "`category` (optional)\n",
        "  - Type: `str`\n",
        "  - Description: A category label describing the type of expense (e.g., food, transportation, entertainment, etc.)."
      ]
    },
    {
      "cell_type": "code",
      "execution_count": null,
      "metadata": {
        "id": "0Ey4LfAUzz9K"
      },
      "outputs": [],
      "source": [
        "from typing import Optional\n",
        "from datetime import date as date_type\n",
        "from pydantic import BaseModel, Field\n",
        "\n",
        "# TODO: Define ExpenseItem model to meet the above requirements\n",
        "\n",
        "class ExpenseItem(BaseModel):\n",
        "    amount: float = Field(description=\"The monetary amount spent\")\n",
        "    memo: str = Field(description=\"Brief description of what the expense was for\")\n",
        "    date: Optional[date_type] = Field(default=None, description=\"Date of expense in YYYY-MM-DD format, infer from context if possible\")\n",
        "    category: Optional[str] = Field(default=None, description=\"Category of expense (food, transportation, entertainment, etc.)\")"
      ]
    },
    {
      "cell_type": "markdown",
      "metadata": {
        "id": "JbUfFT99147K"
      },
      "source": [
        "### Test Your Pydantic Model\n",
        "\n",
        "Next, write a function, `extract_expense_data`, that takes some input and returns an `ExpenseItem` object populated with the data indicated in the input.\n",
        "\n",
        "Hint: To get the date to work with inputs like \"today\" and \"yesterday\", provide today's date in the system message."
      ]
    },
    {
      "cell_type": "code",
      "execution_count": null,
      "metadata": {
        "id": "IF3nFV1n2F55"
      },
      "outputs": [],
      "source": [
        "# TODO: Define and test `extract_expense_data`\n",
        "\n",
        "def extract_expense_data(expense_description):\n",
        "    response = client.responses.parse(\n",
        "    model=\"gpt-4o-2024-08-06\",\n",
        "    input=[\n",
        "            {\"role\": \"system\", \"content\": f\"Extract the expense information from the memo. Today is {date_type.today()}\"},\n",
        "            {\n",
        "                \"role\": \"user\",\n",
        "                \"content\": expense_description,\n",
        "            },\n",
        "        ],\n",
        "        text_format=ExpenseItem,\n",
        "    )\n",
        "\n",
        "    return response.output_parsed\n",
        "\n",
        "print(extract_expense_data(\"I spent 23 dollars on lunch yesterday\"))"
      ]
    },
    {
      "cell_type": "markdown",
      "metadata": {
        "id": "AYc8kD912-kd"
      },
      "source": [
        "## Part 3: Handling Multiple Expenses\n",
        "\n",
        "Sometimes, we'd like to handle user inputs that describe more than one expense at a time. For example:\n",
        "\n",
        "> I went to the store yesterday and spent 42 dollars on groceries. Then I went out to lunch with mom and paid 33 dollars. I also got a coffee on my way home for 4.33.\n",
        "\n",
        "We can give the LLM freedom to create multiple objects so long as we define our Pydantic models to contain a varying number of objects.\n",
        "\n",
        "To do this, create an `ExpenseList` Pydantic model that contains a list of `ExpenseItem` objects. Then, update the `text_format` to use an `ExpenseList`. This way, the LLM can create as few or as many expenses as it deems necessary."
      ]
    },
    {
      "cell_type": "code",
      "execution_count": null,
      "metadata": {
        "id": "qvP78oTS3eIa"
      },
      "outputs": [],
      "source": [
        "from typing import List\n",
        "\n",
        "# TODO: Define `ExpenseList` model\n",
        "# TODO: Define and test `extract_expenses_data` that handles one or more expenses\n",
        "\n",
        "class ExpenseList(BaseModel):\n",
        "    expenses: List[ExpenseItem]\n",
        "\n",
        "def extract_expenses_data(expense_descriptions):\n",
        "    response = client.responses.parse(\n",
        "      model=\"gpt-4o-2024-08-06\",\n",
        "      input=[\n",
        "              {\"role\": \"system\", \"content\": f\"Extract the expense information from the memo. Today is {date_type.today()}\"},\n",
        "              {\n",
        "                  \"role\": \"user\",\n",
        "                  \"content\": expense_descriptions,\n",
        "              },\n",
        "          ],\n",
        "      text_format=ExpenseList,\n",
        "    )\n",
        "\n",
        "    return response.output_parsed\n",
        "\n",
        "\n",
        "expense_list = extract_expenses_data(\n",
        "    \"\"\"\n",
        "    I went to the store yesterday and spent 42 dollars on groceries.\n",
        "    Then I went out to lunch with mom and paid 33 dollars.\n",
        "    I also got a coffee on my way home for 4.33.\n",
        "    \"\"\")\n",
        "\n",
        "# Your object may require a different way to iterate over expenses\n",
        "for expense in expense_list.expenses:\n",
        "    print(expense)"
      ]
    }
  ],
  "metadata": {
    "colab": {
      "provenance": []
    },
    "kernelspec": {
      "display_name": ".venv",
      "language": "python",
      "name": "python3"
    },
    "language_info": {
      "codemirror_mode": {
        "name": "ipython",
        "version": 3
      },
      "file_extension": ".py",
      "mimetype": "text/x-python",
      "name": "python",
      "nbconvert_exporter": "python",
      "pygments_lexer": "ipython3",
      "version": "3.12.2"
    }
  },
  "nbformat": 4,
  "nbformat_minor": 0
}
